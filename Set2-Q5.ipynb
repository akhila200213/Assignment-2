{
 "cells": [
  {
   "cell_type": "code",
   "execution_count": 1,
   "id": "4c966629",
   "metadata": {},
   "outputs": [],
   "source": [
    "import numpy as np\n",
    "from scipy import stats\n",
    "from scipy.stats import norm"
   ]
  },
  {
   "cell_type": "code",
   "execution_count": 4,
   "id": "7813b8c5",
   "metadata": {},
   "outputs": [
    {
     "name": "stdout",
     "output_type": "stream",
     "text": [
      "Mean profit  is Rs: 540 Millon\n"
     ]
    }
   ],
   "source": [
    "#Total mean profit from two different divisions of the company =mean1 + mean2\n",
    "mean=5+7\n",
    "print('Mean profit  is Rs:',mean*45,'Millon')\n"
   ]
  },
  {
   "cell_type": "code",
   "execution_count": 5,
   "id": "9d33e71d",
   "metadata": {},
   "outputs": [
    {
     "name": "stdout",
     "output_type": "stream",
     "text": [
      "Standard deviation is Rs: 225.0 Millon\n"
     ]
    }
   ],
   "source": [
    "#Varanice of profit from two different divisions of the company is 9 and 16\n",
    "std=np.sqrt((9+16))\n",
    "print('Standard deviation is Rs:',std*45,'Millon')"
   ]
  },
  {
   "cell_type": "code",
   "execution_count": 6,
   "id": "93c3bd8c",
   "metadata": {},
   "outputs": [
    {
     "name": "stdout",
     "output_type": "stream",
     "text": [
      "Range is Rs (99.00810347848784, 980.9918965215122) in Millon\n"
     ]
    }
   ],
   "source": [
    "#A.95% percentage for the  annual profits of the company\n",
    "x=stats.norm.interval(0.95,540,225)\n",
    "print('Range is Rs',x,'in Millon')"
   ]
  },
  {
   "cell_type": "code",
   "execution_count": 8,
   "id": "c9d6853c",
   "metadata": {},
   "outputs": [
    {
     "name": "stdout",
     "output_type": "stream",
     "text": [
      "5th percentile of profit (in Million Rupees) is: 170.0\n"
     ]
    }
   ],
   "source": [
    "#B. Specify the 5th percentile of profit (in rupees) of the company\n",
    "x=540+(-1.645)*(225)\n",
    "print('5th percentile of profit (in Million Rupees) is:',np.round(x,))"
   ]
  },
  {
   "cell_type": "code",
   "execution_count": 9,
   "id": "965aa9be",
   "metadata": {},
   "outputs": [
    {
     "data": {
      "text/plain": [
       "0.0477903522728147"
      ]
     },
     "execution_count": 9,
     "metadata": {},
     "output_type": "execute_result"
    }
   ],
   "source": [
    "#C. which of the two divisions has the larger probability of making loss in a given yrs\n",
    "#probability of division 1 making a loss \n",
    "stats.norm.cdf(0,5,3)"
   ]
  },
  {
   "cell_type": "code",
   "execution_count": 10,
   "id": "946f5941",
   "metadata": {},
   "outputs": [
    {
     "data": {
      "text/plain": [
       "0.040059156863817086"
      ]
     },
     "execution_count": 10,
     "metadata": {},
     "output_type": "execute_result"
    }
   ],
   "source": [
    "#probability of division 2 making a loss\n",
    "stats.norm.cdf(0,7,4)"
   ]
  },
  {
   "cell_type": "code",
   "execution_count": null,
   "id": "05551844",
   "metadata": {},
   "outputs": [],
   "source": []
  }
 ],
 "metadata": {
  "kernelspec": {
   "display_name": "Python 3 (ipykernel)",
   "language": "python",
   "name": "python3"
  },
  "language_info": {
   "codemirror_mode": {
    "name": "ipython",
    "version": 3
   },
   "file_extension": ".py",
   "mimetype": "text/x-python",
   "name": "python",
   "nbconvert_exporter": "python",
   "pygments_lexer": "ipython3",
   "version": "3.11.4"
  }
 },
 "nbformat": 4,
 "nbformat_minor": 5
}
