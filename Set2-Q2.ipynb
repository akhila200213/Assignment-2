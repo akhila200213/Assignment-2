{
 "cells": [
  {
   "cell_type": "code",
   "execution_count": 7,
   "id": "998b70cb",
   "metadata": {},
   "outputs": [],
   "source": [
    "from scipy import stats\n",
    "from scipy.stats import norm"
   ]
  },
  {
   "cell_type": "code",
   "execution_count": null,
   "id": "2e4c4dde",
   "metadata": {},
   "outputs": [],
   "source": [
    "#A. More employees at the processing center are older than 44"
   ]
  },
  {
   "cell_type": "code",
   "execution_count": 8,
   "id": "13c5dca1",
   "metadata": {},
   "outputs": [],
   "source": [
    "mean=38\n",
    "std=6"
   ]
  },
  {
   "cell_type": "code",
   "execution_count": 9,
   "id": "04cc6878",
   "metadata": {},
   "outputs": [
    {
     "data": {
      "text/plain": [
       "0.15865525393145707"
      ]
     },
     "execution_count": 9,
     "metadata": {},
     "output_type": "execute_result"
    }
   ],
   "source": [
    "#Employees older than 44 yrs age p(x>44)\n",
    "x=1-stats.norm.cdf(44,mean,std)\n",
    "x"
   ]
  },
  {
   "cell_type": "code",
   "execution_count": 14,
   "id": "517bcc60",
   "metadata": {},
   "outputs": [
    {
     "data": {
      "text/plain": [
       "0.3413447460685429"
      ]
     },
     "execution_count": 14,
     "metadata": {},
     "output_type": "execute_result"
    }
   ],
   "source": [
    "#Employee between 38 to 44 yrs of age \n",
    "stats.norm.cdf(44,mean,std)-stats.norm.cdf(38,mean,std)\n"
   ]
  },
  {
   "cell_type": "code",
   "execution_count": null,
   "id": "3f8b8ad6",
   "metadata": {},
   "outputs": [],
   "source": [
    "#B. Atraining program for employees under the age of 30 at the center would be expected to attract about 36 employee "
   ]
  },
  {
   "cell_type": "code",
   "execution_count": 15,
   "id": "342da8dc",
   "metadata": {},
   "outputs": [
    {
     "data": {
      "text/plain": [
       "0.09121121972586788"
      ]
     },
     "execution_count": 15,
     "metadata": {},
     "output_type": "execute_result"
    }
   ],
   "source": [
    "#Employee under 30 yrs of age\n",
    "stats.norm.cdf(30,mean,std)"
   ]
  },
  {
   "cell_type": "code",
   "execution_count": 16,
   "id": "72ab73d3",
   "metadata": {},
   "outputs": [
    {
     "data": {
      "text/plain": [
       "36.484487890347154"
      ]
     },
     "execution_count": 16,
     "metadata": {},
     "output_type": "execute_result"
    }
   ],
   "source": [
    "#no of employees attending training program n=400 #expected=n*p(x)\n",
    "400*stats.norm.cdf(30,mean,std)"
   ]
  },
  {
   "cell_type": "code",
   "execution_count": null,
   "id": "3cd30238",
   "metadata": {},
   "outputs": [],
   "source": []
  },
  {
   "cell_type": "code",
   "execution_count": null,
   "id": "3da1277a",
   "metadata": {},
   "outputs": [],
   "source": []
  },
  {
   "cell_type": "code",
   "execution_count": null,
   "id": "49747c4e",
   "metadata": {},
   "outputs": [],
   "source": []
  },
  {
   "cell_type": "code",
   "execution_count": null,
   "id": "f1dda155",
   "metadata": {},
   "outputs": [],
   "source": []
  }
 ],
 "metadata": {
  "kernelspec": {
   "display_name": "Python 3 (ipykernel)",
   "language": "python",
   "name": "python3"
  },
  "language_info": {
   "codemirror_mode": {
    "name": "ipython",
    "version": 3
   },
   "file_extension": ".py",
   "mimetype": "text/x-python",
   "name": "python",
   "nbconvert_exporter": "python",
   "pygments_lexer": "ipython3",
   "version": "3.11.4"
  }
 },
 "nbformat": 4,
 "nbformat_minor": 5
}
