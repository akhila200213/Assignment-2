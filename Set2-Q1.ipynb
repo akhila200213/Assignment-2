{
 "cells": [
  {
   "cell_type": "code",
   "execution_count": 10,
   "id": "a8fe1e0e",
   "metadata": {},
   "outputs": [],
   "source": [
    "from scipy import stats\n",
    "from scipy.stats import norm\n",
    "import numpy as np"
   ]
  },
  {
   "cell_type": "code",
   "execution_count": 7,
   "id": "b7d4c78c",
   "metadata": {},
   "outputs": [],
   "source": [
    "#the serving work will begin after 10 min of drop off so 45+10=55min so mean=55 and std=8\n",
    "#the probability that it will take more than 1 hours to complete 1hrs=60min"
   ]
  },
  {
   "cell_type": "code",
   "execution_count": 12,
   "id": "1c981add",
   "metadata": {},
   "outputs": [
    {
     "data": {
      "text/plain": [
       "0.26599"
      ]
     },
     "execution_count": 12,
     "metadata": {},
     "output_type": "execute_result"
    }
   ],
   "source": [
    "mean=55\n",
    "std=8\n",
    "x=1-stats.norm.cdf(60,mean,std)\n",
    "np.round(x,5)"
   ]
  },
  {
   "cell_type": "code",
   "execution_count": null,
   "id": "d4c91c4a",
   "metadata": {},
   "outputs": [],
   "source": []
  },
  {
   "cell_type": "code",
   "execution_count": null,
   "id": "9027fe84",
   "metadata": {},
   "outputs": [],
   "source": []
  }
 ],
 "metadata": {
  "kernelspec": {
   "display_name": "Python 3 (ipykernel)",
   "language": "python",
   "name": "python3"
  },
  "language_info": {
   "codemirror_mode": {
    "name": "ipython",
    "version": 3
   },
   "file_extension": ".py",
   "mimetype": "text/x-python",
   "name": "python",
   "nbconvert_exporter": "python",
   "pygments_lexer": "ipython3",
   "version": "3.11.4"
  }
 },
 "nbformat": 4,
 "nbformat_minor": 5
}
