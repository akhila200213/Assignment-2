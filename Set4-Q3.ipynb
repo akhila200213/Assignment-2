{
 "cells": [
  {
   "cell_type": "code",
   "execution_count": 17,
   "id": "14a3f351",
   "metadata": {},
   "outputs": [],
   "source": [
    "import numpy as np\n",
    "from scipy import stats\n",
    "from scipy.stats import norm"
   ]
  },
  {
   "cell_type": "code",
   "execution_count": 18,
   "id": "73f4bdd4",
   "metadata": {},
   "outputs": [],
   "source": [
    "# for no investigation P(45<x<55)\n",
    "# for investigation 1-P(45<x<55)"
   ]
  },
  {
   "cell_type": "code",
   "execution_count": 19,
   "id": "235567d5",
   "metadata": {},
   "outputs": [],
   "source": [
    "mean=50\n",
    "std=4 #std er=40/sqrt(100)"
   ]
  },
  {
   "cell_type": "code",
   "execution_count": 20,
   "id": "e8515563",
   "metadata": {},
   "outputs": [
    {
     "data": {
      "text/plain": [
       "0.10564977366685535"
      ]
     },
     "execution_count": 20,
     "metadata": {},
     "output_type": "execute_result"
    }
   ],
   "source": [
    "x=stats.norm.cdf(45,mean,std)\n",
    "x"
   ]
  },
  {
   "cell_type": "code",
   "execution_count": 21,
   "id": "eda23bed",
   "metadata": {},
   "outputs": [
    {
     "data": {
      "text/plain": [
       "0.8943502263331446"
      ]
     },
     "execution_count": 21,
     "metadata": {},
     "output_type": "execute_result"
    }
   ],
   "source": [
    "y=stats.norm.cdf(55,mean,std)\n",
    "y"
   ]
  },
  {
   "cell_type": "code",
   "execution_count": 23,
   "id": "3024f790",
   "metadata": {},
   "outputs": [
    {
     "data": {
      "text/plain": [
       "0.7887004526662893"
      ]
     },
     "execution_count": 23,
     "metadata": {},
     "output_type": "execute_result"
    }
   ],
   "source": [
    "#P(45<x<55)\n",
    "z=y-x\n",
    "z"
   ]
  },
  {
   "cell_type": "code",
   "execution_count": 25,
   "id": "fd6fcca5",
   "metadata": {},
   "outputs": [
    {
     "data": {
      "text/plain": [
       "0.2113"
      ]
     },
     "execution_count": 25,
     "metadata": {},
     "output_type": "execute_result"
    }
   ],
   "source": [
    "# so the probability of investigation inthe given week 1-P(45<x<55)\n",
    "f=1-z\n",
    "np.round(f,4)"
   ]
  }
 ],
 "metadata": {
  "kernelspec": {
   "display_name": "Python 3 (ipykernel)",
   "language": "python",
   "name": "python3"
  },
  "language_info": {
   "codemirror_mode": {
    "name": "ipython",
    "version": 3
   },
   "file_extension": ".py",
   "mimetype": "text/x-python",
   "name": "python",
   "nbconvert_exporter": "python",
   "pygments_lexer": "ipython3",
   "version": "3.11.4"
  }
 },
 "nbformat": 4,
 "nbformat_minor": 5
}
